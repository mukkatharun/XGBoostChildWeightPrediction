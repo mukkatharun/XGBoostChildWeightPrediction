{
 "cells": [
  {
   "cell_type": "code",
   "execution_count": 2,
   "id": "7a2a8e70-1073-43ec-8cb5-41620063b4a0",
   "metadata": {},
   "outputs": [
    {
     "ename": "ModuleNotFoundError",
     "evalue": "No module named 'google'",
     "output_type": "error",
     "traceback": [
      "\u001b[0;31m---------------------------------------------------------------------------\u001b[0m",
      "\u001b[0;31mModuleNotFoundError\u001b[0m                       Traceback (most recent call last)",
      "\u001b[0;32m/var/folders/k3/nn_7dk9n09z355_jsmb0yy000000gn/T/ipykernel_10759/243042729.py\u001b[0m in \u001b[0;36m<module>\u001b[0;34m\u001b[0m\n\u001b[1;32m      6\u001b[0m \u001b[0;32mfrom\u001b[0m \u001b[0msklearn\u001b[0m\u001b[0;34m.\u001b[0m\u001b[0mmetrics\u001b[0m \u001b[0;32mimport\u001b[0m \u001b[0maccuracy_score\u001b[0m\u001b[0;34m\u001b[0m\u001b[0;34m\u001b[0m\u001b[0m\n\u001b[1;32m      7\u001b[0m \u001b[0;32mfrom\u001b[0m \u001b[0msklearn\u001b[0m\u001b[0;34m.\u001b[0m\u001b[0mutils\u001b[0m \u001b[0;32mimport\u001b[0m \u001b[0mshuffle\u001b[0m\u001b[0;34m\u001b[0m\u001b[0;34m\u001b[0m\u001b[0m\n\u001b[0;32m----> 8\u001b[0;31m \u001b[0;32mfrom\u001b[0m \u001b[0mgoogle\u001b[0m\u001b[0;34m.\u001b[0m\u001b[0mcloud\u001b[0m \u001b[0;32mimport\u001b[0m \u001b[0mbigquery\u001b[0m\u001b[0;34m\u001b[0m\u001b[0;34m\u001b[0m\u001b[0m\n\u001b[0m",
      "\u001b[0;31mModuleNotFoundError\u001b[0m: No module named 'google'"
     ]
    }
   ],
   "source": [
    "import pandas as pd\n",
    "import xgboost as xgb\n",
    "import numpy as np\n",
    "\n",
    "from sklearn.model_selection import train_test_split\n",
    "from sklearn.metrics import accuracy_score\n",
    "from sklearn.utils import shuffle\n",
    "from google.cloud import bigquery"
   ]
  },
  {
   "cell_type": "code",
   "execution_count": 2,
   "id": "e33f5222-4ea5-42ae-b7f7-78497fa2d772",
   "metadata": {},
   "outputs": [
    {
     "data": {
      "text/html": [
       "<div>\n",
       "<style scoped>\n",
       "    .dataframe tbody tr th:only-of-type {\n",
       "        vertical-align: middle;\n",
       "    }\n",
       "\n",
       "    .dataframe tbody tr th {\n",
       "        vertical-align: top;\n",
       "    }\n",
       "\n",
       "    .dataframe thead th {\n",
       "        text-align: right;\n",
       "    }\n",
       "</style>\n",
       "<table border=\"1\" class=\"dataframe\">\n",
       "  <thead>\n",
       "    <tr style=\"text-align: right;\">\n",
       "      <th></th>\n",
       "      <th>weight_pounds</th>\n",
       "      <th>is_male</th>\n",
       "      <th>mother_age</th>\n",
       "      <th>plurality</th>\n",
       "      <th>gestation_weeks</th>\n",
       "    </tr>\n",
       "  </thead>\n",
       "  <tbody>\n",
       "    <tr>\n",
       "      <th>0</th>\n",
       "      <td>8.161513</td>\n",
       "      <td>True</td>\n",
       "      <td>29</td>\n",
       "      <td>1</td>\n",
       "      <td>39</td>\n",
       "    </tr>\n",
       "    <tr>\n",
       "      <th>1</th>\n",
       "      <td>7.828615</td>\n",
       "      <td>True</td>\n",
       "      <td>33</td>\n",
       "      <td>1</td>\n",
       "      <td>41</td>\n",
       "    </tr>\n",
       "    <tr>\n",
       "      <th>2</th>\n",
       "      <td>7.187070</td>\n",
       "      <td>True</td>\n",
       "      <td>30</td>\n",
       "      <td>1</td>\n",
       "      <td>39</td>\n",
       "    </tr>\n",
       "    <tr>\n",
       "      <th>3</th>\n",
       "      <td>8.631098</td>\n",
       "      <td>False</td>\n",
       "      <td>33</td>\n",
       "      <td>1</td>\n",
       "      <td>40</td>\n",
       "    </tr>\n",
       "    <tr>\n",
       "      <th>4</th>\n",
       "      <td>6.748350</td>\n",
       "      <td>True</td>\n",
       "      <td>33</td>\n",
       "      <td>2</td>\n",
       "      <td>38</td>\n",
       "    </tr>\n",
       "  </tbody>\n",
       "</table>\n",
       "</div>"
      ],
      "text/plain": [
       "   weight_pounds  is_male  mother_age  plurality  gestation_weeks\n",
       "0       8.161513     True          29          1               39\n",
       "1       7.828615     True          33          1               41\n",
       "2       7.187070     True          30          1               39\n",
       "3       8.631098    False          33          1               40\n",
       "4       6.748350     True          33          2               38"
      ]
     },
     "execution_count": 2,
     "metadata": {},
     "output_type": "execute_result"
    }
   ],
   "source": [
    "query=\"\"\"\n",
    "SELECT\n",
    "  weight_pounds,\n",
    "  is_male,\n",
    "  mother_age,\n",
    "  plurality,\n",
    "  gestation_weeks\n",
    "FROM\n",
    "  publicdata.samples.natality\n",
    "WHERE year > 2007\n",
    "LIMIT 1000\n",
    "\"\"\"\n",
    "df = bigquery.Client().query(query).to_dataframe()\n",
    "df.head()"
   ]
  },
  {
   "cell_type": "code",
   "execution_count": 4,
   "id": "5ab7dfce-ded8-4e4a-b22d-e7f9564e6021",
   "metadata": {},
   "outputs": [
    {
     "data": {
      "text/html": [
       "<div>\n",
       "<style scoped>\n",
       "    .dataframe tbody tr th:only-of-type {\n",
       "        vertical-align: middle;\n",
       "    }\n",
       "\n",
       "    .dataframe tbody tr th {\n",
       "        vertical-align: top;\n",
       "    }\n",
       "\n",
       "    .dataframe thead th {\n",
       "        text-align: right;\n",
       "    }\n",
       "</style>\n",
       "<table border=\"1\" class=\"dataframe\">\n",
       "  <thead>\n",
       "    <tr style=\"text-align: right;\">\n",
       "      <th></th>\n",
       "      <th>weight_pounds</th>\n",
       "      <th>mother_age</th>\n",
       "      <th>plurality</th>\n",
       "      <th>gestation_weeks</th>\n",
       "    </tr>\n",
       "  </thead>\n",
       "  <tbody>\n",
       "    <tr>\n",
       "      <th>count</th>\n",
       "      <td>1000.000000</td>\n",
       "      <td>1000.000000</td>\n",
       "      <td>1000.00000</td>\n",
       "      <td>1000.00000</td>\n",
       "    </tr>\n",
       "    <tr>\n",
       "      <th>mean</th>\n",
       "      <td>7.258310</td>\n",
       "      <td>27.457000</td>\n",
       "      <td>1.02300</td>\n",
       "      <td>38.70500</td>\n",
       "    </tr>\n",
       "    <tr>\n",
       "      <th>std</th>\n",
       "      <td>1.257613</td>\n",
       "      <td>6.166537</td>\n",
       "      <td>0.15651</td>\n",
       "      <td>2.39911</td>\n",
       "    </tr>\n",
       "    <tr>\n",
       "      <th>min</th>\n",
       "      <td>1.102311</td>\n",
       "      <td>14.000000</td>\n",
       "      <td>1.00000</td>\n",
       "      <td>22.00000</td>\n",
       "    </tr>\n",
       "    <tr>\n",
       "      <th>25%</th>\n",
       "      <td>6.624891</td>\n",
       "      <td>22.000000</td>\n",
       "      <td>1.00000</td>\n",
       "      <td>38.00000</td>\n",
       "    </tr>\n",
       "    <tr>\n",
       "      <th>50%</th>\n",
       "      <td>7.363440</td>\n",
       "      <td>27.000000</td>\n",
       "      <td>1.00000</td>\n",
       "      <td>39.00000</td>\n",
       "    </tr>\n",
       "    <tr>\n",
       "      <th>75%</th>\n",
       "      <td>7.998922</td>\n",
       "      <td>32.000000</td>\n",
       "      <td>1.00000</td>\n",
       "      <td>40.00000</td>\n",
       "    </tr>\n",
       "    <tr>\n",
       "      <th>max</th>\n",
       "      <td>10.875403</td>\n",
       "      <td>46.000000</td>\n",
       "      <td>3.00000</td>\n",
       "      <td>47.00000</td>\n",
       "    </tr>\n",
       "  </tbody>\n",
       "</table>\n",
       "</div>"
      ],
      "text/plain": [
       "       weight_pounds   mother_age   plurality  gestation_weeks\n",
       "count    1000.000000  1000.000000  1000.00000       1000.00000\n",
       "mean        7.258310    27.457000     1.02300         38.70500\n",
       "std         1.257613     6.166537     0.15651          2.39911\n",
       "min         1.102311    14.000000     1.00000         22.00000\n",
       "25%         6.624891    22.000000     1.00000         38.00000\n",
       "50%         7.363440    27.000000     1.00000         39.00000\n",
       "75%         7.998922    32.000000     1.00000         40.00000\n",
       "max        10.875403    46.000000     3.00000         47.00000"
      ]
     },
     "execution_count": 4,
     "metadata": {},
     "output_type": "execute_result"
    }
   ],
   "source": [
    "df.describe()"
   ]
  },
  {
   "cell_type": "code",
   "execution_count": 3,
   "id": "4299ed65-b7ee-40a7-9e06-313c6dba904f",
   "metadata": {},
   "outputs": [
    {
     "data": {
      "text/plain": [
       "False    501\n",
       "True     499\n",
       "Name: is_male, dtype: int64"
      ]
     },
     "execution_count": 3,
     "metadata": {},
     "output_type": "execute_result"
    }
   ],
   "source": [
    "df['is_male'].value_counts()"
   ]
  },
  {
   "cell_type": "markdown",
   "id": "de9d2c32-6de2-4fca-a053-3e6fc5da2f21",
   "metadata": {},
   "source": [
    "Extract the label column"
   ]
  },
  {
   "cell_type": "code",
   "execution_count": 5,
   "id": "bb599a7c-155f-4df4-a430-24091bc907da",
   "metadata": {},
   "outputs": [],
   "source": [
    "df = df.dropna()\n",
    "df = shuffle(df, random_state=2)"
   ]
  },
  {
   "cell_type": "code",
   "execution_count": 6,
   "id": "f6a8cc56-d068-427a-8c60-7ce4d68139f1",
   "metadata": {},
   "outputs": [],
   "source": [
    "labels = df['weight_pounds']\n",
    "data = df.drop(columns=['weight_pounds'])"
   ]
  },
  {
   "cell_type": "code",
   "execution_count": 7,
   "id": "b42d499d-27cb-4f31-ad45-fb18fb24047e",
   "metadata": {},
   "outputs": [],
   "source": [
    "data['is_male'] = data['is_male'].astype(int)"
   ]
  },
  {
   "cell_type": "markdown",
   "id": "c8b3e89f-684a-461c-99e0-3c4b564927a2",
   "metadata": {},
   "source": [
    "Split data into train and test sets"
   ]
  },
  {
   "cell_type": "code",
   "execution_count": 10,
   "id": "e1d6acc3-a262-429b-a629-28392220f317",
   "metadata": {},
   "outputs": [],
   "source": [
    "x,y = data,labels\n",
    "x_train,x_test,y_train,y_test = train_test_split(x,y)"
   ]
  },
  {
   "cell_type": "markdown",
   "id": "0d64aa47-1b26-487a-a7ad-bf70878b8df5",
   "metadata": {},
   "source": [
    "Model Build, Train and Evaluate"
   ]
  },
  {
   "cell_type": "code",
   "execution_count": 11,
   "id": "11295d13-dd10-492c-86dd-802b01f5f27a",
   "metadata": {},
   "outputs": [],
   "source": [
    "model = xgb.XGBRegressor(\n",
    "    objective='reg:linear'\n",
    ")"
   ]
  },
  {
   "cell_type": "code",
   "execution_count": 12,
   "id": "98d7efd4-2d1a-46c5-9acf-a969ffa1d231",
   "metadata": {},
   "outputs": [
    {
     "data": {
      "text/plain": [
       "XGBRegressor()"
      ]
     },
     "execution_count": 12,
     "metadata": {},
     "output_type": "execute_result"
    }
   ],
   "source": [
    "model.fit(x_train, y_train)\n"
   ]
  },
  {
   "cell_type": "markdown",
   "id": "18dce2c6-7b44-429b-9101-e91849438ef3",
   "metadata": {},
   "source": [
    "Evaluate your model on test data"
   ]
  },
  {
   "cell_type": "code",
   "execution_count": 14,
   "id": "22a5de73-ab6c-4e6a-81cf-950083ded5a5",
   "metadata": {},
   "outputs": [],
   "source": [
    "y_pred = model.predict(x_test)"
   ]
  },
  {
   "cell_type": "code",
   "execution_count": 16,
   "id": "d727807e-63cf-42b0-bde2-438f6c61c9b4",
   "metadata": {},
   "outputs": [
    {
     "name": "stdout",
     "output_type": "stream",
     "text": [
      "Predicted weight:  7.9718227\n",
      "Actual weight:  7.31273323054\n",
      "\n",
      "Predicted weight:  7.2785263\n",
      "Actual weight:  6.35372239084\n",
      "\n",
      "Predicted weight:  7.4629817\n",
      "Actual weight:  6.9225150268\n",
      "\n",
      "Predicted weight:  8.111164\n",
      "Actual weight:  7.12313568522\n",
      "\n",
      "Predicted weight:  7.6964064\n",
      "Actual weight:  10.24929056038\n",
      "\n"
     ]
    }
   ],
   "source": [
    "for i in range(5):\n",
    "    print('Predicted weight: ', y_pred[i])\n",
    "    print('Actual weight: ', y_test.iloc[i])\n",
    "    print()"
   ]
  },
  {
   "cell_type": "code",
   "execution_count": 23,
   "id": "4519ce46-dd16-4a73-8623-ebb6402d25ee",
   "metadata": {},
   "outputs": [],
   "source": [
    "model.save_model('model.bst')"
   ]
  },
  {
   "cell_type": "markdown",
   "id": "bab491ee-92f5-415c-bfa9-1c67205b4a81",
   "metadata": {},
   "source": [
    "Configuration for the bucket and creation"
   ]
  },
  {
   "cell_type": "code",
   "execution_count": 3,
   "id": "112a2d9e-72a7-4ebf-8c6a-76103f7584a3",
   "metadata": {},
   "outputs": [],
   "source": [
    "GCP_PROJECT = 'Data Marvels- Child weight prediction'\n",
    "MODEL_BUCKET = 'gs://childweightprediction'\n",
    "VERSION_NAME = 'v1'\n",
    "MODEL_NAME = 'baby_weight'"
   ]
  },
  {
   "cell_type": "markdown",
   "id": "944d3e3d-ec3a-4262-a8f0-45b811782b17",
   "metadata": {},
   "source": [
    "create bucket"
   ]
  },
  {
   "cell_type": "code",
   "execution_count": 25,
   "id": "d9f4ec3e-2331-4f11-a2f6-47b786b36095",
   "metadata": {},
   "outputs": [
    {
     "name": "stdout",
     "output_type": "stream",
     "text": [
      "Creating gs://childweightprediction/...\n"
     ]
    }
   ],
   "source": [
    "!gsutil mb $MODEL_BUCKET"
   ]
  },
  {
   "cell_type": "markdown",
   "id": "744cda9e-0a85-4455-8a18-dee899b948b7",
   "metadata": {},
   "source": [
    "Copy the model to the created bucket"
   ]
  },
  {
   "cell_type": "code",
   "execution_count": 26,
   "id": "4c3ce4c2-01ef-417c-a1ae-7644874bb827",
   "metadata": {},
   "outputs": [
    {
     "name": "stdout",
     "output_type": "stream",
     "text": [
      "Copying file://./model.bst [Content-Type=application/octet-stream]...\n",
      "/ [1 files][ 65.0 KiB/ 65.0 KiB]                                                \n",
      "Operation completed over 1 objects/65.0 KiB.                                     \n"
     ]
    }
   ],
   "source": [
    "!gsutil cp ./model.bst $MODEL_BUCKET"
   ]
  },
  {
   "cell_type": "markdown",
   "id": "e1bcdb8c-c04b-47c5-9113-255b91d43883",
   "metadata": {},
   "source": [
    "Deploying the model"
   ]
  },
  {
   "cell_type": "code",
   "execution_count": 50,
   "id": "846ebe2d-fce3-4612-b870-63878b25bc57",
   "metadata": {},
   "outputs": [
    {
     "name": "stdout",
     "output_type": "stream",
     "text": [
      "Using endpoint [https://us-west1-ml.googleapis.com/]\n",
      "\u001b[1;31mERROR:\u001b[0m (gcloud.ai-platform.models.create) Resource in projects [end2endcodelabsxgboost] is the subject of a conflict: Field: model.name Error: A model with the same name already exists.\n",
      "- '@type': type.googleapis.com/google.rpc.BadRequest\n",
      "  fieldViolations:\n",
      "  - description: A model with the same name already exists.\n",
      "    field: model.name\n"
     ]
    }
   ],
   "source": [
    "!gcloud ai-platform models create $MODEL_NAME --region=us-west1 --project=end2endcodelabsxgboost\n"
   ]
  },
  {
   "cell_type": "code",
   "execution_count": 51,
   "id": "9e4669a3-6144-4c77-98d2-d24fd5f3e0b4",
   "metadata": {},
   "outputs": [
    {
     "name": "stdout",
     "output_type": "stream",
     "text": [
      "Using endpoint [https://us-west1-ml.googleapis.com/]\n",
      "Creating version (this might take a few minutes)......done.                    \n"
     ]
    }
   ],
   "source": [
    "!gcloud ai-platform versions create $VERSION_NAME \\\n",
    "--model=$MODEL_NAME \\\n",
    "--framework='XGBOOST' \\\n",
    "--runtime-version=1.15 \\\n",
    "--origin=$MODEL_BUCKET \\\n",
    "--python-version=3.7 \\\n",
    "--project=end2endcodelabsxgboost \\\n",
    "--region=us-west1"
   ]
  },
  {
   "cell_type": "code",
   "execution_count": 36,
   "id": "d95269ff-d00d-4ebe-8769-598dfc4dc7b9",
   "metadata": {},
   "outputs": [
    {
     "name": "stdout",
     "output_type": "stream",
     "text": [
      "API [cloudresourcemanager.googleapis.com] not enabled on project [651437649487].\n",
      " Would you like to enable and retry (this will take a few minutes)? (y/N)?  ^C\n",
      "\n",
      "\n",
      "Command killed by keyboard interrupt\n",
      "\n"
     ]
    }
   ],
   "source": [
    "!gcloud projects list"
   ]
  },
  {
   "cell_type": "code",
   "execution_count": 37,
   "id": "b78bb896-2d8e-4233-8f46-0ca81dd63012",
   "metadata": {},
   "outputs": [
    {
     "name": "stdout",
     "output_type": "stream",
     "text": [
      "Updated property [core/project].\n",
      "\u001b[1;33mWARNING:\u001b[0m You do not appear to have access to project [651437649487] or it does not exist.\n"
     ]
    }
   ],
   "source": [
    "!gcloud config set project 651437649487"
   ]
  },
  {
   "cell_type": "code",
   "execution_count": 43,
   "id": "22d13fd5-9475-43bc-9cda-36aa50179d82",
   "metadata": {},
   "outputs": [
    {
     "name": "stdout",
     "output_type": "stream",
     "text": [
      "Writing predictions.json\n"
     ]
    }
   ],
   "source": [
    "%%writefile predictions.json\n",
    "[0.0, 33.0, 1.0, 27.0]\n",
    "[1.0, 26.0, 1.0, 40.0]"
   ]
  },
  {
   "cell_type": "code",
   "execution_count": 4,
   "id": "81a65169-0ff1-4ccf-a238-382ffe0a5a6c",
   "metadata": {},
   "outputs": [
    {
     "name": "stdout",
     "output_type": "stream",
     "text": [
      "zsh:1: command not found: gcloud\n"
     ]
    }
   ],
   "source": [
    "prediction = !gcloud ai-platform predict --project=end2endcodelabsxgboost --model=$MODEL_NAME --json-instances=predictions.json --version=$VERSION_NAME\n",
    "print(prediction.s)"
   ]
  },
  {
   "cell_type": "code",
   "execution_count": null,
   "id": "3c1bf01b-d33c-45b6-bb97-d71f4b670254",
   "metadata": {},
   "outputs": [],
   "source": []
  }
 ],
 "metadata": {
  "environment": {
   "kernel": "python3",
   "name": "common-cpu.m86",
   "type": "gcloud",
   "uri": "gcr.io/deeplearning-platform-release/base-cpu:m86"
  },
  "kernelspec": {
   "display_name": "Python 3 (ipykernel)",
   "language": "python",
   "name": "python3"
  },
  "language_info": {
   "codemirror_mode": {
    "name": "ipython",
    "version": 3
   },
   "file_extension": ".py",
   "mimetype": "text/x-python",
   "name": "python",
   "nbconvert_exporter": "python",
   "pygments_lexer": "ipython3",
   "version": "3.9.9"
  }
 },
 "nbformat": 4,
 "nbformat_minor": 5
}
